{
 "cells": [
  {
   "cell_type": "code",
   "execution_count": 1,
   "metadata": {
    "colab": {
     "base_uri": "https://localhost:8080/"
    },
    "id": "1id74sBSYnkL",
    "outputId": "93f079e8-c7c8-4117-9fc9-f1963a6ce02f"
   },
   "outputs": [
    {
     "name": "stdout",
     "output_type": "stream",
     "text": [
      "Hit:1 http://ppa.launchpad.net/c2d4u.team/c2d4u4.0+/ubuntu bionic InRelease\n",
      "Hit:2 http://archive.ubuntu.com/ubuntu bionic InRelease\n",
      "Get:3 http://archive.ubuntu.com/ubuntu bionic-updates InRelease [88.7 kB]\n",
      "Get:4 http://security.ubuntu.com/ubuntu bionic-security InRelease [88.7 kB]\n",
      "Hit:5 http://ppa.launchpad.net/cran/libgit2/ubuntu bionic InRelease\n",
      "Hit:6 http://ppa.launchpad.net/deadsnakes/ppa/ubuntu bionic InRelease\n",
      "Hit:7 https://cloud.r-project.org/bin/linux/ubuntu bionic-cran40/ InRelease\n",
      "Get:8 http://archive.ubuntu.com/ubuntu bionic-backports InRelease [74.6 kB]\n",
      "Hit:9 http://ppa.launchpad.net/graphics-drivers/ppa/ubuntu bionic InRelease\n",
      "Ign:10 https://developer.download.nvidia.com/compute/cuda/repos/ubuntu1804/x86_64  InRelease\n",
      "Ign:11 https://developer.download.nvidia.com/compute/machine-learning/repos/ubuntu1804/x86_64  InRelease\n",
      "Hit:12 https://developer.download.nvidia.com/compute/cuda/repos/ubuntu1804/x86_64  Release\n",
      "Hit:13 https://developer.download.nvidia.com/compute/machine-learning/repos/ubuntu1804/x86_64  Release\n",
      "Fetched 252 kB in 4s (61.9 kB/s)\n",
      "Reading package lists... Done\n",
      "openjdk version \"1.8.0_282\"\n",
      "OpenJDK Runtime Environment (build 1.8.0_282-8u282-b08-0ubuntu1~18.04-b08)\n",
      "OpenJDK 64-Bit Server VM (build 25.282-b08, mixed mode)\n",
      "Requirement already satisfied: pyspark in /usr/local/lib/python3.7/dist-packages (3.1.1)\n",
      "Requirement already satisfied: py4j==0.10.9 in /usr/local/lib/python3.7/dist-packages (from pyspark) (0.10.9)\n"
     ]
    }
   ],
   "source": [
    "import pandas as pd\n",
    "\n",
    "!apt-get update\n",
    "!apt-get install openjdk-8-jdk-headless -qq > /dev/null\n",
    "import os\n",
    "os.environ[\"JAVA_HOME\"] = \"/usr/lib/jvm/java-8-openjdk-amd64\"\n",
    "!update-alternatives --set java /usr/lib/jvm/java-8-openjdk-amd64/jre/bin/java\n",
    "!java -version\n",
    "!pip install pyspark\n",
    "\n",
    "from pyspark import SparkContext\n",
    "from pyspark.sql import SparkSession \n",
    "from pyspark.ml.feature import StringIndexer,VectorAssembler\n",
    "\n",
    "spark = SparkSession.builder\\\n",
    "            .appName(\"Spark Dataframe Intro\")\\\n",
    "            .getOrCreate()\n"
   ]
  },
  {
   "cell_type": "code",
   "execution_count": 2,
   "metadata": {
    "colab": {
     "base_uri": "https://localhost:8080/"
    },
    "id": "WOLlLwPXZGzP",
    "outputId": "24ead64a-b3f4-4105-e3bf-abbb5e40a468"
   },
   "outputs": [
    {
     "name": "stdout",
     "output_type": "stream",
     "text": [
      "+----+---------+------------+----------+------+------------+----------+------+--------------------+\n",
      "| mpg|cylinders|displacement|horsepower|weight|acceleration|model_year|origin|                name|\n",
      "+----+---------+------------+----------+------+------------+----------+------+--------------------+\n",
      "|18.0|        8|       307.0|       130|  3504|        12.0|        70|     1|chevrolet chevell...|\n",
      "|15.0|        8|       350.0|       165|  3693|        11.5|        70|     1|   buick skylark 320|\n",
      "|18.0|        8|       318.0|       150|  3436|        11.0|        70|     1|  plymouth satellite|\n",
      "|16.0|        8|       304.0|       150|  3433|        12.0|        70|     1|       amc rebel sst|\n",
      "+----+---------+------------+----------+------+------------+----------+------+--------------------+\n",
      "only showing top 4 rows\n",
      "\n"
     ]
    }
   ],
   "source": [
    "auto= spark.read.option(\"inferSchema\",\"true\").option(\"header\",\"true\").csv(\"/content/auto-mpg.data.txt\")\n",
    "\n",
    "auto.show(4)"
   ]
  },
  {
   "cell_type": "code",
   "execution_count": 3,
   "metadata": {
    "colab": {
     "base_uri": "https://localhost:8080/"
    },
    "id": "6u6CtttLgH1o",
    "outputId": "2b4d8dba-c330-4273-b5b8-6acc49ee22df"
   },
   "outputs": [
    {
     "name": "stdout",
     "output_type": "stream",
     "text": [
      "root\n",
      " |-- mpg: double (nullable = true)\n",
      " |-- cylinders: double (nullable = true)\n",
      " |-- displacement: double (nullable = true)\n",
      " |-- horsepower: double (nullable = true)\n",
      " |-- weight: double (nullable = true)\n",
      " |-- acceleration: double (nullable = true)\n",
      " |-- model_year: double (nullable = true)\n",
      " |-- origin: double (nullable = true)\n",
      " |-- name: double (nullable = true)\n",
      "\n"
     ]
    }
   ],
   "source": [
    "auto.dtypes\n",
    "\n",
    "# casts all columns to a numeric type\n",
    "from pyspark.sql.functions import col  \n",
    "# for indicating a column using a string in the line below\n",
    "\n",
    "auto = auto.select([col(c).cast(\"double\").alias(c) for c in auto.columns])\n",
    "\n",
    "auto.printSchema()"
   ]
  },
  {
   "cell_type": "code",
   "execution_count": 4,
   "metadata": {
    "colab": {
     "base_uri": "https://localhost:8080/"
    },
    "id": "Cw3DmWGfZOrg",
    "outputId": "78dfa2fb-7af8-4245-f888-ca8d7ebff069"
   },
   "outputs": [
    {
     "name": "stdout",
     "output_type": "stream",
     "text": [
      "+---+---------+------------+----------+------+------------+----------+------+----+\n",
      "|mpg|cylinders|displacement|horsepower|weight|acceleration|model_year|origin|name|\n",
      "+---+---------+------------+----------+------+------------+----------+------+----+\n",
      "+---+---------+------------+----------+------+------------+----------+------+----+\n",
      "\n",
      "+---+---------+------------+----------+------+------------+----------+------+----+\n",
      "|mpg|cylinders|displacement|horsepower|weight|acceleration|model_year|origin|name|\n",
      "+---+---------+------------+----------+------+------------+----------+------+----+\n",
      "+---+---------+------------+----------+------+------------+----------+------+----+\n",
      "\n",
      "+---+---------+------------+----------+------+------------+----------+------+----+\n",
      "|mpg|cylinders|displacement|horsepower|weight|acceleration|model_year|origin|name|\n",
      "+---+---------+------------+----------+------+------------+----------+------+----+\n",
      "+---+---------+------------+----------+------+------------+----------+------+----+\n",
      "\n",
      "+----+---------+------------+----------+------+------------+----------+------+----+\n",
      "| mpg|cylinders|displacement|horsepower|weight|acceleration|model_year|origin|name|\n",
      "+----+---------+------------+----------+------+------------+----------+------+----+\n",
      "|25.0|      4.0|        98.0|      null|2046.0|        19.0|      71.0|   1.0|null|\n",
      "|21.0|      6.0|       200.0|      null|2875.0|        17.0|      74.0|   1.0|null|\n",
      "|40.9|      4.0|        85.0|      null|1835.0|        17.3|      80.0|   2.0|null|\n",
      "|23.6|      4.0|       140.0|      null|2905.0|        14.3|      80.0|   1.0|null|\n",
      "|34.5|      4.0|       100.0|      null|2320.0|        15.8|      81.0|   2.0|null|\n",
      "|23.0|      4.0|       151.0|      null|3035.0|        20.5|      82.0|   1.0|null|\n",
      "+----+---------+------------+----------+------+------------+----------+------+----+\n",
      "\n",
      "+---+---------+------------+----------+------+------------+----------+------+----+\n",
      "|mpg|cylinders|displacement|horsepower|weight|acceleration|model_year|origin|name|\n",
      "+---+---------+------------+----------+------+------------+----------+------+----+\n",
      "+---+---------+------------+----------+------+------------+----------+------+----+\n",
      "\n",
      "+---+---------+------------+----------+------+------------+----------+------+----+\n",
      "|mpg|cylinders|displacement|horsepower|weight|acceleration|model_year|origin|name|\n",
      "+---+---------+------------+----------+------+------------+----------+------+----+\n",
      "+---+---------+------------+----------+------+------------+----------+------+----+\n",
      "\n",
      "+---+---------+------------+----------+------+------------+----------+------+----+\n",
      "|mpg|cylinders|displacement|horsepower|weight|acceleration|model_year|origin|name|\n",
      "+---+---------+------------+----------+------+------------+----------+------+----+\n",
      "+---+---------+------------+----------+------+------------+----------+------+----+\n",
      "\n",
      "+---+---------+------------+----------+------+------------+----------+------+----+\n",
      "|mpg|cylinders|displacement|horsepower|weight|acceleration|model_year|origin|name|\n",
      "+---+---------+------------+----------+------+------------+----------+------+----+\n",
      "+---+---------+------------+----------+------+------------+----------+------+----+\n",
      "\n"
     ]
    }
   ],
   "source": [
    "columns=[\"mpg\",\"cylinders\",\"displacement\",\"horsepower\",\"weight\",\"acceleration\",\"model_year\",\"origin\",\"name\"]\n",
    "\n",
    "\n",
    "\n",
    "auto.filter(\"mpg is null\").show()\n",
    "auto.filter(\"cylinders is null\").show()\n",
    "auto.filter(\"displacement is null\").show()\n",
    "auto.filter(\"horsepower is null\").show()\n",
    "auto.filter(\"weight is null\").show()\n",
    "auto.filter(\"acceleration is null\").show()\n",
    "auto.filter(\"model_year is null\").show()\n",
    "auto.filter(\"origin is null\").show()\n",
    "\n"
   ]
  },
  {
   "cell_type": "code",
   "execution_count": 7,
   "metadata": {
    "colab": {
     "base_uri": "https://localhost:8080/"
    },
    "id": "E-Xk2ilXme4Q",
    "outputId": "fa0e2abd-cf55-4d89-9cbd-1edaa5c1fb3c"
   },
   "outputs": [
    {
     "name": "stdout",
     "output_type": "stream",
     "text": [
      "+----+---------+------------+----------+------+------------+----------+------+----+-------------------------+\n",
      "| mpg|cylinders|displacement|horsepower|weight|acceleration|model_year|origin|name|horsepower_imputed_median|\n",
      "+----+---------+------------+----------+------+------------+----------+------+----+-------------------------+\n",
      "|18.0|      8.0|       307.0|     130.0|3504.0|        12.0|      70.0|   1.0|null|                    130.0|\n",
      "|15.0|      8.0|       350.0|     165.0|3693.0|        11.5|      70.0|   1.0|null|                    165.0|\n",
      "+----+---------+------------+----------+------+------------+----------+------+----+-------------------------+\n",
      "only showing top 2 rows\n",
      "\n"
     ]
    }
   ],
   "source": [
    "from pyspark.ml.feature import Imputer\n",
    "medianImputer = Imputer(inputCol=\"horsepower\",outputCol=\"horsepower_imputed_median\",strategy=\"median\")\n",
    "auto = medianImputer.fit(auto).transform(auto)\n",
    "auto.show(2)"
   ]
  },
  {
   "cell_type": "code",
   "execution_count": 8,
   "metadata": {
    "colab": {
     "base_uri": "https://localhost:8080/"
    },
    "id": "I4R65arObWiX",
    "outputId": "d9962150-2be8-49d5-8980-887bcf983c3a"
   },
   "outputs": [
    {
     "name": "stdout",
     "output_type": "stream",
     "text": [
      "+---+---------+------------+----------+------+------------+----------+------+----+-------------------------+\n",
      "|mpg|cylinders|displacement|horsepower|weight|acceleration|model_year|origin|name|horsepower_imputed_median|\n",
      "+---+---------+------------+----------+------+------------+----------+------+----+-------------------------+\n",
      "+---+---------+------------+----------+------+------------+----------+------+----+-------------------------+\n",
      "\n",
      "+---+---------+------------+----------+------+------------+----------+------+----+-------------------------+\n",
      "|mpg|cylinders|displacement|horsepower|weight|acceleration|model_year|origin|name|horsepower_imputed_median|\n",
      "+---+---------+------------+----------+------+------------+----------+------+----+-------------------------+\n",
      "+---+---------+------------+----------+------+------------+----------+------+----+-------------------------+\n",
      "\n",
      "+---+---------+------------+----------+------+------------+----------+------+----+-------------------------+\n",
      "|mpg|cylinders|displacement|horsepower|weight|acceleration|model_year|origin|name|horsepower_imputed_median|\n",
      "+---+---------+------------+----------+------+------------+----------+------+----+-------------------------+\n",
      "+---+---------+------------+----------+------+------------+----------+------+----+-------------------------+\n",
      "\n",
      "+---+---------+------------+----------+------+------------+----------+------+----+-------------------------+\n",
      "|mpg|cylinders|displacement|horsepower|weight|acceleration|model_year|origin|name|horsepower_imputed_median|\n",
      "+---+---------+------------+----------+------+------------+----------+------+----+-------------------------+\n",
      "+---+---------+------------+----------+------+------------+----------+------+----+-------------------------+\n",
      "\n",
      "+---+---------+------------+----------+------+------------+----------+------+----+-------------------------+\n",
      "|mpg|cylinders|displacement|horsepower|weight|acceleration|model_year|origin|name|horsepower_imputed_median|\n",
      "+---+---------+------------+----------+------+------------+----------+------+----+-------------------------+\n",
      "+---+---------+------------+----------+------+------------+----------+------+----+-------------------------+\n",
      "\n",
      "+---+---------+------------+----------+------+------------+----------+------+----+-------------------------+\n",
      "|mpg|cylinders|displacement|horsepower|weight|acceleration|model_year|origin|name|horsepower_imputed_median|\n",
      "+---+---------+------------+----------+------+------------+----------+------+----+-------------------------+\n",
      "+---+---------+------------+----------+------+------------+----------+------+----+-------------------------+\n",
      "\n",
      "+---+---------+------------+----------+------+------------+----------+------+----+-------------------------+\n",
      "|mpg|cylinders|displacement|horsepower|weight|acceleration|model_year|origin|name|horsepower_imputed_median|\n",
      "+---+---------+------------+----------+------+------------+----------+------+----+-------------------------+\n",
      "+---+---------+------------+----------+------+------------+----------+------+----+-------------------------+\n",
      "\n",
      "+---+---------+------------+----------+------+------------+----------+------+----+-------------------------+\n",
      "|mpg|cylinders|displacement|horsepower|weight|acceleration|model_year|origin|name|horsepower_imputed_median|\n",
      "+---+---------+------------+----------+------+------------+----------+------+----+-------------------------+\n",
      "+---+---------+------------+----------+------+------------+----------+------+----+-------------------------+\n",
      "\n"
     ]
    }
   ],
   "source": [
    "auto.filter(\"mpg is null\").show()\n",
    "auto.filter(\"cylinders is null\").show()\n",
    "auto.filter(\"displacement is null\").show()\n",
    "auto.filter(\"horsepower_imputed_median is null\").show()\n",
    "auto.filter(\"weight is null\").show()\n",
    "auto.filter(\"acceleration is null\").show()\n",
    "auto.filter(\"model_year is null\").show()\n",
    "auto.filter(\"origin is null\").show()"
   ]
  },
  {
   "cell_type": "code",
   "execution_count": 9,
   "metadata": {
    "id": "Ht0bNlM5cfnF"
   },
   "outputs": [],
   "source": [
    "from pyspark.sql.functions import UserDefinedFunction\n",
    "from pyspark.sql.types import StringType\n",
    "from pyspark.ml.feature import StringIndexer,VectorAssembler,OneHotEncoder\n",
    "from pyspark.ml.classification import RandomForestClassifier\n"
   ]
  },
  {
   "cell_type": "code",
   "execution_count": 10,
   "metadata": {
    "colab": {
     "base_uri": "https://localhost:8080/"
    },
    "id": "jYELvRkMZOb0",
    "outputId": "66a7d5b0-4ebc-4d07-9382-97271b9b9f6c"
   },
   "outputs": [
    {
     "name": "stdout",
     "output_type": "stream",
     "text": [
      "+----+---------+------------+----------+------+------------+----------+------+----+-------------------------+-------------+\n",
      "| mpg|cylinders|displacement|horsepower|weight|acceleration|model_year|origin|name|horsepower_imputed_median| origin_class|\n",
      "+----+---------+------------+----------+------+------------+----------+------+----+-------------------------+-------------+\n",
      "|18.0|      8.0|       307.0|     130.0|3504.0|        12.0|      70.0|   1.0|null|                    130.0|(3,[1],[1.0])|\n",
      "|15.0|      8.0|       350.0|     165.0|3693.0|        11.5|      70.0|   1.0|null|                    165.0|(3,[1],[1.0])|\n",
      "+----+---------+------------+----------+------+------------+----------+------+----+-------------------------+-------------+\n",
      "only showing top 2 rows\n",
      "\n"
     ]
    }
   ],
   "source": [
    "#indxr = StringIndexer(inputCol=\"City\",outputCol=\"city_indexed\")\n",
    "#placesDF = indxr.fit(placesDF).transform(placesDF)\n",
    "\n",
    "encoder = OneHotEncoder(inputCol=\"origin\",outputCol=\"origin_class\")\n",
    "auto = encoder.fit(auto).transform(auto)\n",
    "\n",
    "auto.show(2)\n"
   ]
  },
  {
   "cell_type": "markdown",
   "metadata": {
    "id": "r3C7SUPEdp6Y"
   },
   "source": [
    "Origin class bir categoric deger bunu encoding ettim ve name işime yarayacak bir kolon olmadıgı ıcın onu artık almadım"
   ]
  },
  {
   "cell_type": "code",
   "execution_count": 11,
   "metadata": {
    "colab": {
     "base_uri": "https://localhost:8080/"
    },
    "id": "6iuOIzu2ZG1_",
    "outputId": "e36b01aa-0432-41e8-d58e-67514c0a1113"
   },
   "outputs": [
    {
     "name": "stdout",
     "output_type": "stream",
     "text": [
      "+----+---------+------------+-------------------------+------+------------+----------+-------------+\n",
      "| mpg|cylinders|displacement|horsepower_imputed_median|weight|acceleration|model_year| origin_class|\n",
      "+----+---------+------------+-------------------------+------+------------+----------+-------------+\n",
      "|18.0|      8.0|       307.0|                    130.0|3504.0|        12.0|      70.0|(3,[1],[1.0])|\n",
      "|15.0|      8.0|       350.0|                    165.0|3693.0|        11.5|      70.0|(3,[1],[1.0])|\n",
      "|18.0|      8.0|       318.0|                    150.0|3436.0|        11.0|      70.0|(3,[1],[1.0])|\n",
      "|16.0|      8.0|       304.0|                    150.0|3433.0|        12.0|      70.0|(3,[1],[1.0])|\n",
      "+----+---------+------------+-------------------------+------+------------+----------+-------------+\n",
      "only showing top 4 rows\n",
      "\n"
     ]
    }
   ],
   "source": [
    "auto=auto.select(\"mpg\",\"cylinders\",\"displacement\",\"horsepower_imputed_median\", \"weight\", \"acceleration\", \"model_year\",\"origin_class\")\n",
    "auto.show(4)"
   ]
  },
  {
   "cell_type": "markdown",
   "metadata": {
    "id": "jvMCMGppebzh"
   },
   "source": [
    "Mpg targetım oldugu ıcın adını label olarak degıstırdım ."
   ]
  },
  {
   "cell_type": "code",
   "execution_count": 12,
   "metadata": {
    "colab": {
     "base_uri": "https://localhost:8080/"
    },
    "id": "0hwm4qTmeHWK",
    "outputId": "e7f5d845-2593-4068-d370-caed3d299d66"
   },
   "outputs": [
    {
     "name": "stdout",
     "output_type": "stream",
     "text": [
      "+-----+---------+------------+-------------------------+------+------------+----------+-------------+\n",
      "|label|cylinders|displacement|horsepower_imputed_median|weight|acceleration|model_year| origin_class|\n",
      "+-----+---------+------------+-------------------------+------+------------+----------+-------------+\n",
      "| 18.0|      8.0|       307.0|                    130.0|3504.0|        12.0|      70.0|(3,[1],[1.0])|\n",
      "| 15.0|      8.0|       350.0|                    165.0|3693.0|        11.5|      70.0|(3,[1],[1.0])|\n",
      "+-----+---------+------------+-------------------------+------+------------+----------+-------------+\n",
      "only showing top 2 rows\n",
      "\n"
     ]
    }
   ],
   "source": [
    "auto = auto.withColumnRenamed(\"mpg\",\"label\")\n",
    "auto.show(2)"
   ]
  },
  {
   "cell_type": "code",
   "execution_count": 13,
   "metadata": {
    "colab": {
     "base_uri": "https://localhost:8080/"
    },
    "id": "66QqpS0teGuH",
    "outputId": "ff9790fd-55f3-4495-d27c-13386fa394e4"
   },
   "outputs": [
    {
     "name": "stdout",
     "output_type": "stream",
     "text": [
      "+--------------------+-----+\n",
      "|            features|label|\n",
      "+--------------------+-----+\n",
      "|[8.0,307.0,130.0,...| 18.0|\n",
      "|[8.0,350.0,165.0,...| 15.0|\n",
      "|[8.0,318.0,150.0,...| 18.0|\n",
      "|[8.0,304.0,150.0,...| 16.0|\n",
      "|[8.0,302.0,140.0,...| 17.0|\n",
      "|[8.0,429.0,198.0,...| 15.0|\n",
      "|[8.0,454.0,220.0,...| 14.0|\n",
      "|[8.0,440.0,215.0,...| 14.0|\n",
      "|[8.0,455.0,225.0,...| 14.0|\n",
      "|[8.0,390.0,190.0,...| 15.0|\n",
      "|[8.0,383.0,170.0,...| 15.0|\n",
      "|[8.0,340.0,160.0,...| 14.0|\n",
      "|[8.0,400.0,150.0,...| 15.0|\n",
      "|[8.0,455.0,225.0,...| 14.0|\n",
      "|[4.0,113.0,95.0,2...| 24.0|\n",
      "|[6.0,198.0,95.0,2...| 22.0|\n",
      "|[6.0,199.0,97.0,2...| 18.0|\n",
      "|[6.0,200.0,85.0,2...| 21.0|\n",
      "|[4.0,97.0,88.0,21...| 27.0|\n",
      "|[4.0,97.0,46.0,18...| 26.0|\n",
      "+--------------------+-----+\n",
      "only showing top 20 rows\n",
      "\n"
     ]
    }
   ],
   "source": [
    "vec = VectorAssembler(inputCols=auto.columns[1:10],outputCol=\"features\")\n",
    "auto =vec.transform(auto)\n",
    "auto=auto.select(\"features\",\"label\")\n",
    "auto.show()"
   ]
  },
  {
   "cell_type": "code",
   "execution_count": 20,
   "metadata": {
    "colab": {
     "base_uri": "https://localhost:8080/"
    },
    "id": "BHHwumZZrKgM",
    "outputId": "f9e7f31d-7364-459b-ebf6-b80508994ad6"
   },
   "outputs": [
    {
     "name": "stdout",
     "output_type": "stream",
     "text": [
      "0.0\n"
     ]
    }
   ],
   "source": [
    "from pyspark.ml import Pipeline\n",
    "from pyspark.ml.regression import LinearRegression\n",
    "from pyspark.ml.evaluation import MulticlassClassificationEvaluator\n",
    "from pyspark.ml.tuning import CrossValidator, ParamGridBuilder\n",
    "from pyspark.ml.feature import StandardScaler\n",
    "from pyspark.ml.feature import Imputer\n",
    "\n",
    "\n",
    "lin_Reg_ = LinearRegression(maxIter=10)\n",
    "\n",
    "params = ParamGridBuilder() \\\n",
    "    .addGrid(lin_Reg_.regParam, [0, 0.01, 0.05, 0.1, 0.5, 1]) \\\n",
    "    .build()\n",
    "eva = MulticlassClassificationEvaluator(metricName=\"accuracy\")\n",
    "\n",
    "validator = CrossValidator(\n",
    "                                estimatorParamMaps=params,\n",
    "                                estimator=lin_Reg_,\n",
    "                                evaluator=eva,\n",
    "                                numFolds=5,\n",
    "                                parallelism=2\n",
    "                          )\n",
    "\n",
    "\n",
    "\n",
    "trainDF,testDF = auto.randomSplit([0.75,0.25],seed=1234)\n",
    "\n",
    "\n",
    "model = validator.fit(trainDF)\n",
    "resultDF = model.transform(testDF)\n",
    "\n",
    "accuracy = eva.evaluate(resultDF)\n",
    "print(accuracy)"
   ]
  },
  {
   "cell_type": "code",
   "execution_count": 40,
   "metadata": {
    "colab": {
     "base_uri": "https://localhost:8080/"
    },
    "id": "oQXHRr9Ltlrj",
    "outputId": "c11485e7-1ca7-4765-d6bc-3dff024acba7"
   },
   "outputs": [
    {
     "name": "stdout",
     "output_type": "stream",
     "text": [
      "R Squared (R2) on test data = 0.775962\n"
     ]
    }
   ],
   "source": [
    "from pyspark.ml.regression import LinearRegression \n",
    "from pyspark.ml.evaluation import RegressionEvaluator\n",
    "from pyspark.ml.tuning import CrossValidator, ParamGridBuilder\n",
    "\n",
    "lrCV = LinearRegression(featuresCol='features', labelCol='label', maxIter=50)\n",
    "\n",
    "#Creating a grid of parameter values that the cross-validation will use\n",
    "\n",
    "paramGrid = ParamGridBuilder() \\\n",
    "  .addGrid(lrCV.regParam, [1, 0.1, 0.01]) \\\n",
    "  .addGrid(lrCV.fitIntercept, [True, False]) \\\n",
    "  .build()\n",
    "\n",
    "#Create an instance of the CrossValidator object and enter our predefined parameters\n",
    "\n",
    "crossVal = CrossValidator(estimator=lrCV,\n",
    "                         estimatorParamMaps=paramGrid,\n",
    "                         evaluator=MulticlassClassificationEvaluator(metricName=\"accuracy\"),\n",
    "                         numFolds=5)\n",
    "\n",
    "eva=MulticlassClassificationEvaluator(metricName=\"accuracy\")\n",
    "model = validator.fit(trainDF)\n",
    "resultDF = model.transform(testDF)\n",
    "\n",
    "lr_evaluator = RegressionEvaluator(predictionCol=\"prediction\", \\\n",
    "                 labelCol=\"label\",metricName=\"r2\")\n",
    "print(\"R Squared (R2) on test data = %g\" % lr_evaluator.evaluate(resultDF))"
   ]
  }
 ],
 "metadata": {
  "colab": {
   "collapsed_sections": [],
   "name": "cigdemuyumaz_q3.ipynb",
   "provenance": []
  },
  "kernelspec": {
   "display_name": "Python 3",
   "language": "python",
   "name": "python3"
  },
  "language_info": {
   "codemirror_mode": {
    "name": "ipython",
    "version": 3
   },
   "file_extension": ".py",
   "mimetype": "text/x-python",
   "name": "python",
   "nbconvert_exporter": "python",
   "pygments_lexer": "ipython3",
   "version": "3.8.5"
  }
 },
 "nbformat": 4,
 "nbformat_minor": 1
}
